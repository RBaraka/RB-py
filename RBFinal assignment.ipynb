{
 "cells": [
  {
   "cell_type": "markdown",
   "id": "4e94fe76",
   "metadata": {},
   "source": [
    "# Data Science Tools and Ecosystem"
   ]
  },
  {
   "cell_type": "markdown",
   "id": "71a2d7b5",
   "metadata": {},
   "source": [
    "### In this notebook, Data Tools and Ecosystem are summarised"
   ]
  },
  {
   "cell_type": "markdown",
   "id": "9a13adb1",
   "metadata": {},
   "source": [
    "**objectives:**\n",
    "* popular languages in data science\n",
    "* most comonly used libraries in data science\n",
    "* data science tools\n",
    "* evaluating arithmetic expressions in python"
   ]
  },
  {
   "cell_type": "markdown",
   "id": "caba6db2",
   "metadata": {},
   "source": [
    "Some of the popular languages that data scientists use are:\n",
    "1. Python\n",
    "2. R\n",
    "3. SQL\n",
    "4. Scala"
   ]
  },
  {
   "cell_type": "markdown",
   "id": "2cc2a831",
   "metadata": {},
   "source": [
    "some of the most commonly used libraries by data scientists include:\n",
    "1. TensorFlow\n",
    "2. NumPy\n",
    "3. SciPy\n",
    "4. Pandas"
   ]
  },
  {
   "attachments": {},
   "cell_type": "markdown",
   "id": "1a0e6d24",
   "metadata": {},
   "source": [
    "|Data Science Tools|\n",
    "|------------------|\n",
    "|Jypyter|\n",
    "|Apache Zepplin|\n",
    "|R studios|"
   ]
  },
  {
   "cell_type": "markdown",
   "id": "c6e44b33",
   "metadata": {},
   "source": [
    "### Below are a few examples of evaluating arithmetic expression in python"
   ]
  },
  {
   "cell_type": "code",
   "execution_count": 1,
   "id": "89b664d4",
   "metadata": {},
   "outputs": [
    {
     "data": {
      "text/plain": [
       "17"
      ]
     },
     "execution_count": 1,
     "metadata": {},
     "output_type": "execute_result"
    }
   ],
   "source": [
    "## this is a simple aritgmetic expression to multiply then add integers\n",
    "(3*4)+5"
   ]
  },
  {
   "cell_type": "code",
   "execution_count": 2,
   "id": "7207010b",
   "metadata": {},
   "outputs": [
    {
     "data": {
      "text/plain": [
       "3.3333333333333335"
      ]
     },
     "execution_count": 2,
     "metadata": {},
     "output_type": "execute_result"
    }
   ],
   "source": [
    "## this will convert 200 minutes to hours\n",
    "200/60"
   ]
  },
  {
   "cell_type": "markdown",
   "id": "5346fd5a",
   "metadata": {},
   "source": [
    "## Author\n",
    "Rim Baraka"
   ]
  }
 ],
 "metadata": {
  "kernelspec": {
   "display_name": "Python 3 (ipykernel)",
   "language": "python",
   "name": "python3"
  },
  "language_info": {
   "codemirror_mode": {
    "name": "ipython",
    "version": 3
   },
   "file_extension": ".py",
   "mimetype": "text/x-python",
   "name": "python",
   "nbconvert_exporter": "python",
   "pygments_lexer": "ipython3",
   "version": "3.11.4"
  }
 },
 "nbformat": 4,
 "nbformat_minor": 5
}
